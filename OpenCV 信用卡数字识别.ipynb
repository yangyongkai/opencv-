{
 "cells": [
  {
   "cell_type": "code",
   "execution_count": 1,
   "metadata": {},
   "outputs": [],
   "source": [
    "import numpy as np\n",
    "import cv2\n",
    "import myutils\n",
    "from imutils import contours"
   ]
  },
  {
   "cell_type": "code",
   "execution_count": 2,
   "metadata": {},
   "outputs": [],
   "source": [
    "# 对轮廓排序函数\n",
    "def sort_contours(cnts):\n",
    "    boundingBoxes = [cv2.boundingRect(c) for c in cnts] #用一个最小的矩形，把找到的形状包起来x,y,h,w\n",
    "    (cnts, boundingBoxes) = zip(*sorted(zip(cnts, boundingBoxes),\n",
    "                                        key=lambda b: b[1][0]))\n",
    "    return cnts"
   ]
  },
  {
   "cell_type": "code",
   "execution_count": 3,
   "metadata": {},
   "outputs": [],
   "source": [
    "def resize(image, width=None, height=None, inter=cv2.INTER_AREA):\n",
    "    dim = None\n",
    "    (h, w) = image.shape[:2]\n",
    "    if width is None and height is None:\n",
    "        return image\n",
    "    if width is None:\n",
    "        r = height / float(h)\n",
    "        dim = (int(w * r), height)\n",
    "    else:\n",
    "        r = width / float(w)\n",
    "        dim = (width, int(h * r))\n",
    "    resized = cv2.resize(image, dim, interpolation=inter)\n",
    "    return resized"
   ]
  },
  {
   "cell_type": "code",
   "execution_count": 4,
   "metadata": {},
   "outputs": [],
   "source": [
    "# 绘图展示\n",
    "def cv_show(name, img):\n",
    "    cv2.imshow(name, img)\n",
    "    cv2.waitKey(0)\n",
    "    cv2.destroyAllWindows()"
   ]
  },
  {
   "cell_type": "code",
   "execution_count": 5,
   "metadata": {},
   "outputs": [],
   "source": [
    "# 读取一个模板图像\n",
    "img = cv2.imread(r'D:\\template-matching-ocr\\images\\ocr_a_reference.png')\n",
    "cv_show('img', img)"
   ]
  },
  {
   "cell_type": "code",
   "execution_count": 6,
   "metadata": {},
   "outputs": [],
   "source": [
    "# 灰度图\n",
    "ref = cv2.cvtColor(img, cv2.COLOR_BGR2GRAY)\n",
    "cv_show('ref', ref)"
   ]
  },
  {
   "cell_type": "code",
   "execution_count": 7,
   "metadata": {},
   "outputs": [],
   "source": [
    "# 二值图像\n",
    "ref = cv2.threshold(ref, 10, 255, cv2.THRESH_BINARY_INV)[1]\n",
    "cv_show('ref', ref)"
   ]
  },
  {
   "cell_type": "code",
   "execution_count": 8,
   "metadata": {},
   "outputs": [],
   "source": [
    "# 计算轮廓\n",
    "# cv2.findContours()函数接受的参数为二值图，cv2.RETR_EXTERNAL只检测外轮廓，cv2.CHAIN_APPROX_SIMPLE只保留终点坐标\n",
    "# 返回的list中每个元素都是图像中的一个轮廓\n",
    "\n",
    "refCnts, hierarchy = cv2.findContours(ref.copy(), cv2.RETR_EXTERNAL, cv2.CHAIN_APPROX_SIMPLE)\n",
    "\n",
    "cv2.drawContours(img, refCnts, -1, (0,0,255),3)\n",
    "cv_show('img', img)"
   ]
  },
  {
   "cell_type": "code",
   "execution_count": 9,
   "metadata": {},
   "outputs": [],
   "source": [
    "# 排序\n",
    "refCnts = sort_contours(refCnts)"
   ]
  },
  {
   "cell_type": "code",
   "execution_count": 10,
   "metadata": {},
   "outputs": [],
   "source": [
    "digits = {}"
   ]
  },
  {
   "cell_type": "code",
   "execution_count": 11,
   "metadata": {},
   "outputs": [],
   "source": [
    "# 遍历每一个轮廓\n",
    "for (i, c) in enumerate(refCnts):\n",
    "    #计算外接矩形并且resize成合适大小\n",
    "    (x, y, w, h) = cv2.boundingRect(c)\n",
    "    roi = ref[y:y+h, x:x+w]\n",
    "    roi = cv2.resize(roi, (57, 88))\n",
    "    \n",
    "    # 每一个数字对应每一个模板\n",
    "    digits[i] = roi"
   ]
  },
  {
   "cell_type": "code",
   "execution_count": 57,
   "metadata": {
    "scrolled": true
   },
   "outputs": [],
   "source": [
    "# 读取输入图像，预处理\n",
    "image = cv2.imread(r'D:\\template-matching-ocr\\images\\credit_card_01.png')\n",
    "image = resize(image, width=300)\n",
    "gray = cv2.cvtColor(image, cv2.COLOR_BGR2GRAY)\n",
    "cv_show('gray',gray)"
   ]
  },
  {
   "cell_type": "code",
   "execution_count": 58,
   "metadata": {},
   "outputs": [],
   "source": [
    "rectKernel = cv2.getStructuringElement(cv2.MORPH_RECT, (9, 3))"
   ]
  },
  {
   "cell_type": "code",
   "execution_count": 59,
   "metadata": {},
   "outputs": [],
   "source": [
    "sqKernel = cv2.getStructuringElement(cv2.MORPH_RECT, (5, 5))"
   ]
  },
  {
   "cell_type": "code",
   "execution_count": 60,
   "metadata": {},
   "outputs": [],
   "source": [
    "#礼帽操作，突出更明亮的区域\n",
    "tophat = cv2.morphologyEx(gray, cv2.MORPH_TOPHAT, rectKernel) \n",
    "cv_show('tophat',tophat) \n",
    "# "
   ]
  },
  {
   "cell_type": "code",
   "execution_count": 61,
   "metadata": {},
   "outputs": [],
   "source": [
    "sobelx = cv2.Sobel(tophat, cv2.CV_64F, 1, 0, ksize=3)\n",
    "sobely = cv2.Sobel(tophat, cv2.CV_64F, 0, 1, ksize=3)\n",
    "sobelx = cv2.convertScaleAbs(sobelx)\n",
    "sobely = cv2.convertScaleAbs(sobely)\n",
    "sobelxy = cv2.addWeighted(sobelx, 0.5, sobely, 0.5, 0)\n",
    "cv_show('sobelxy',sobelxy)"
   ]
  },
  {
   "cell_type": "code",
   "execution_count": 62,
   "metadata": {},
   "outputs": [],
   "source": [
    "#通过闭操作（先膨胀，再腐蚀）将数字连在一起\n",
    "sobelxy = cv2.morphologyEx(sobelxy, cv2.MORPH_CLOSE, rectKernel) \n",
    "cv_show('sobelxy',sobelxy)"
   ]
  },
  {
   "cell_type": "code",
   "execution_count": 63,
   "metadata": {},
   "outputs": [],
   "source": [
    "# THRESH_OTSU会自动寻找合适的阈值，适合双峰，需把阈值参数设置为0\n",
    "thresh = cv2.threshold(gradX, 0, 255, cv2.THRESH_BINARY | cv2.THRESH_OTSU)[1]\n",
    "cv_show('thresh',thresh)"
   ]
  },
  {
   "cell_type": "code",
   "execution_count": 64,
   "metadata": {},
   "outputs": [],
   "source": [
    "# 再来一个闭操作\n",
    "thresh = cv2.morphologyEx(thresh, cv2.MORPH_CLOSE, sqKernel)\n",
    "cv_show('thresh',thresh)"
   ]
  },
  {
   "cell_type": "code",
   "execution_count": 75,
   "metadata": {},
   "outputs": [],
   "source": [
    "# 计算轮廓\n",
    "threshCnts, hierarchy = cv2.findContours(thresh.copy(), cv2.RETR_EXTERNAL, cv2.CHAIN_APPROX_SIMPLE )\n",
    "\n",
    "cnts = threshCnts\n",
    "cur_img = image.copy()\n",
    "cv2.drawContours(cur_img, cnts, -1, (0,0,255),1)\n",
    "cv_show('cur_img',cur_img)"
   ]
  },
  {
   "cell_type": "code",
   "execution_count": 77,
   "metadata": {},
   "outputs": [],
   "source": [
    "# 遍历轮廓\n",
    "locs = []\n",
    "for (i, c) in enumerate(cnts):\n",
    "    # 计算矩形\n",
    "    (x, y, w, h) = cv2.boundingRect(c)\n",
    "    ar = w / float(h)\n",
    "    \n",
    "    # 选择合适的区域，根据实际任务来\n",
    "    if ar > 2.5 and ar < 4.0:\n",
    "        if (w > 40 and w<55) and (h > 10 and h <20):\n",
    "            locs.append((x, y, w, h))\n",
    "\n",
    "# 将符合的轮廓从左到右排序\n",
    "locs = sorted(locs, key=lambda x:x[0])"
   ]
  },
  {
   "cell_type": "code",
   "execution_count": 87,
   "metadata": {},
   "outputs": [],
   "source": [
    "output = []"
   ]
  },
  {
   "cell_type": "code",
   "execution_count": 88,
   "metadata": {},
   "outputs": [],
   "source": [
    "# 遍历每一个轮廓中的数字\n",
    "for (i, (gX, gY, gW, gH)) in enumerate(locs):\n",
    "    # 初始化数字列表\n",
    "    groupOutput = []\n",
    "    \n",
    "    # 根据坐标提取每一个组\n",
    "    group = gray[gY - 5:gY + gH + 5, gX - 5:gX + gW + 5]\n",
    "    cv_show('group',group)\n",
    "    \n",
    "    # 预处理\n",
    "    group = cv2.threshold(group, 0, 255, cv2.THRESH_BINARY | cv2.THRESH_OTSU)[1]\n",
    "    cv_show('group',group)\n",
    "    \n",
    "    # 计算每一组的轮廓\n",
    "    digitCnts, hierarchy = cv2.findContours(group.copy(), cv2.RETR_EXTERNAL,\n",
    "                                          cv2.CHAIN_APPROX_SIMPLE)\n",
    "    digitCnts = sort_contours(digitCnts)\n",
    "    \n",
    "    # 计算每一组中的每一个数值\n",
    "    for c in digitCnts:\n",
    "        # 找到当前数值的轮廓，resize成合适的大小\n",
    "        (x, y, w, h) = cv2.boundingRect(c)\n",
    "        roi = group[y:y+h, x:x+w]\n",
    "        roi = cv2.resize(roi, (57, 88))\n",
    "        cv_show('roi',roi)\n",
    "        \n",
    "        # 计算匹配得分\n",
    "        scores = []\n",
    "        \n",
    "        # 在模板中计算每一个得分\n",
    "        for (digit, digtiROI) in digits.items():\n",
    "            # 模板匹配\n",
    "            result = cv2.matchTemplate(roi, digtiROI, cv2.TM_CCOEFF)\n",
    "            (_, score, _, _) = cv2.minMaxLoc(result)\n",
    "            scores.append(score)\n",
    "            \n",
    "        # 得到最合适的数字\n",
    "        groupOutput.append(str(np.argmax(scores)))\n",
    "    \n",
    "    # 画出来\n",
    "    cv2.rectangle(image, (gX - 5, gY - 5),\n",
    "    (gX + gW + 5, gY + gH + 5), (0, 0, 255), 1)\n",
    "    cv2.putText(image, \"\".join(groupOutput), (gX, gY - 15),\n",
    "    cv2.FONT_HERSHEY_SIMPLEX, 0.65, (0, 0, 255), 2)\n",
    "    \n",
    "    # 得到结果\n",
    "    output.extend(groupOutput)"
   ]
  },
  {
   "cell_type": "code",
   "execution_count": 89,
   "metadata": {},
   "outputs": [
    {
     "data": {
      "text/plain": [
       "-1"
      ]
     },
     "execution_count": 89,
     "metadata": {},
     "output_type": "execute_result"
    }
   ],
   "source": [
    "cv2.imshow(\"Image\", image)\n",
    "cv2.waitKey(0)"
   ]
  },
  {
   "cell_type": "code",
   "execution_count": null,
   "metadata": {},
   "outputs": [],
   "source": []
  }
 ],
 "metadata": {
  "kernelspec": {
   "display_name": "Python 3",
   "language": "python",
   "name": "python3"
  },
  "language_info": {
   "codemirror_mode": {
    "name": "ipython",
    "version": 3
   },
   "file_extension": ".py",
   "mimetype": "text/x-python",
   "name": "python",
   "nbconvert_exporter": "python",
   "pygments_lexer": "ipython3",
   "version": "3.7.3"
  }
 },
 "nbformat": 4,
 "nbformat_minor": 2
}

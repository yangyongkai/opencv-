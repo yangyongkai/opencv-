{
 "cells": [
  {
   "cell_type": "code",
   "execution_count": 2,
   "metadata": {},
   "outputs": [],
   "source": [
    "import numpy as np\n",
    "import cv2"
   ]
  },
  {
   "cell_type": "code",
   "execution_count": 3,
   "metadata": {},
   "outputs": [],
   "source": [
    "# 实例化OpenCV's multi-object tracker\n",
    "trackers = cv2.MultiTracker_create()\n",
    "vs = cv2.VideoCapture(r'D:\\opencv-ziliao\\multi-object-tracking\\videos\\soccer_01.mp4')"
   ]
  },
  {
   "cell_type": "code",
   "execution_count": 4,
   "metadata": {},
   "outputs": [],
   "source": [
    "# 视频流\n",
    "while True:\n",
    "    # 取当前帧\n",
    "    frame = vs.read()\n",
    "    \n",
    "    # (true, data)\n",
    "    frame = frame[1]\n",
    "    # 到头了就结束\n",
    "    if frame is None:\n",
    "        break\n",
    "    \n",
    "    # resize每一帧\n",
    "    (h, w) = frame.shape[:2]\n",
    "    width=600\n",
    "    r = width/float(w)\n",
    "    dim = (width, int(h * r))\n",
    "    frame = cv2.resize(frame, dim, interpolation=cv2.INTER_AREA)\n",
    "    \n",
    "    # 追踪结果\n",
    "    (success, boxes) = trackers.update(frame)\n",
    "    \n",
    "    # 绘制区域\n",
    "    for box in boxes:\n",
    "        (x, y, w, h) = [int(v) for v in box]\n",
    "        cv2.rectangle(frame, (x,y), (x+w, y+h), (0,255,0), 2)\n",
    "        \n",
    "    # 显示\n",
    "    cv2.imshow(\"Frame\", frame)\n",
    "    key = cv2.waitKey(100) & 0xFF\n",
    "    \n",
    "    \n",
    "    if key == ord('s'):\n",
    "        # 选择一个区域，按s\n",
    "        box = cv2.selectROI('Frame', frame, fromCenter=False, showCrosshair=True)\n",
    "        \n",
    "        # 创建一个新的追踪器\n",
    "        tracker = cv2.TrackerKCF_create()\n",
    "        trackers.add(tracker, frame, box)\n",
    "        \n",
    "    # 退出\n",
    "    elif key ==27:\n",
    "        break\n",
    "\n",
    "vs.release()\n",
    "cv2.destroyAllWindows()"
   ]
  },
  {
   "cell_type": "code",
   "execution_count": null,
   "metadata": {},
   "outputs": [],
   "source": []
  }
 ],
 "metadata": {
  "kernelspec": {
   "display_name": "Python 3",
   "language": "python",
   "name": "python3"
  },
  "language_info": {
   "codemirror_mode": {
    "name": "ipython",
    "version": 3
   },
   "file_extension": ".py",
   "mimetype": "text/x-python",
   "name": "python",
   "nbconvert_exporter": "python",
   "pygments_lexer": "ipython3",
   "version": "3.7.3"
  }
 },
 "nbformat": 4,
 "nbformat_minor": 2
}
